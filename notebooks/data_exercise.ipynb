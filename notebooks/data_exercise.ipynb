{
 "cells": [
  {
   "cell_type": "markdown",
   "metadata": {
    "pycharm": {
     "name": "#%% md\n"
    }
   },
   "source": [
    "Import necessary libraries."
   ]
  },
  {
   "cell_type": "code",
   "execution_count": 1,
   "metadata": {
    "pycharm": {
     "name": "#%%\n"
    }
   },
   "outputs": [],
   "source": [
    "import time\n",
    "import pandas as pd\n",
    "\n",
    "from sklearn.ensemble import RandomForestClassifier\n",
    "from sklearn.model_selection import train_test_split\n",
    "from sklearn import metrics"
   ]
  },
  {
   "cell_type": "markdown",
   "metadata": {
    "pycharm": {
     "name": "#%% md\n"
    }
   },
   "source": [
    "Load data from the input csv file."
   ]
  },
  {
   "cell_type": "code",
   "execution_count": 9,
   "metadata": {
    "pycharm": {
     "name": "#%%\n"
    }
   },
   "outputs": [
    {
     "data": {
      "text/plain": "   TARGET  F_NB_CONTRACT_PL  F_NB_PREVIOUS_PL  F_DELAY_LAST_PL  \\\n0       0               0.0               0.0              0.0   \n1       0               0.0               0.0              0.0   \n2       0               1.0               1.0            186.0   \n3       0               0.0               0.0              0.0   \n4       0               0.0               0.0              0.0   \n\n   F_DELAY_FIRST_PL  F_TODU_B2C_SUM  F_TODU_B2B_SUM  \\\n0               0.0            0.00             0.0   \n1               0.0            0.00             0.0   \n2             186.0         2085.04             0.0   \n3               0.0            0.00             0.0   \n4               0.0            0.00             0.0   \n\n   F_TODU_BANKING PARTNER_SUM  F_TODU_BROKER_SUM  F_TODU_AUTOMOTIVE_SUM  ...  \\\n0                         0.0                0.0                    0.0  ...   \n1                         0.0                0.0                    0.0  ...   \n2                         0.0                0.0                    0.0  ...   \n3                         0.0                0.0                    0.0  ...   \n4                         0.0                0.0                    0.0  ...   \n\n   F_DELAY_LAST_RC  F_DELAY_FIRST_RC          EDUCATION  MARITAL_STATUS  \\\n0           -100.0            -100.0  university degree         married   \n1           -100.0            -100.0  university degree         married   \n2             66.0              21.0            unknown         married   \n3           -100.0            -100.0            unknown         married   \n4           -100.0            -100.0            unknown         married   \n\n   MONTHLY_INCOME            DWELLING   AGE  JOB_TITLE  SCO_CRIF_B2B_LOAN  \\\n0          3139.0               owner  67.0  pensioner                3.0   \n1          3139.0               owner  68.0  pensioner                3.0   \n2          1510.0  owner with mortage  59.0   labourer                2.0   \n3          3150.0  owner with mortage  59.0    teacher                3.0   \n4          3150.0  owner with mortage  59.0    teacher                3.0   \n\n   SCO_CRIF_B2C_LOAN  \n0                2.0  \n1                2.0  \n2                3.0  \n3                2.0  \n4                2.0  \n\n[5 rows x 48 columns]",
      "text/html": "<div>\n<style scoped>\n    .dataframe tbody tr th:only-of-type {\n        vertical-align: middle;\n    }\n\n    .dataframe tbody tr th {\n        vertical-align: top;\n    }\n\n    .dataframe thead th {\n        text-align: right;\n    }\n</style>\n<table border=\"1\" class=\"dataframe\">\n  <thead>\n    <tr style=\"text-align: right;\">\n      <th></th>\n      <th>TARGET</th>\n      <th>F_NB_CONTRACT_PL</th>\n      <th>F_NB_PREVIOUS_PL</th>\n      <th>F_DELAY_LAST_PL</th>\n      <th>F_DELAY_FIRST_PL</th>\n      <th>F_TODU_B2C_SUM</th>\n      <th>F_TODU_B2B_SUM</th>\n      <th>F_TODU_BANKING PARTNER_SUM</th>\n      <th>F_TODU_BROKER_SUM</th>\n      <th>F_TODU_AUTOMOTIVE_SUM</th>\n      <th>...</th>\n      <th>F_DELAY_LAST_RC</th>\n      <th>F_DELAY_FIRST_RC</th>\n      <th>EDUCATION</th>\n      <th>MARITAL_STATUS</th>\n      <th>MONTHLY_INCOME</th>\n      <th>DWELLING</th>\n      <th>AGE</th>\n      <th>JOB_TITLE</th>\n      <th>SCO_CRIF_B2B_LOAN</th>\n      <th>SCO_CRIF_B2C_LOAN</th>\n    </tr>\n  </thead>\n  <tbody>\n    <tr>\n      <th>0</th>\n      <td>0</td>\n      <td>0.0</td>\n      <td>0.0</td>\n      <td>0.0</td>\n      <td>0.0</td>\n      <td>0.00</td>\n      <td>0.0</td>\n      <td>0.0</td>\n      <td>0.0</td>\n      <td>0.0</td>\n      <td>...</td>\n      <td>-100.0</td>\n      <td>-100.0</td>\n      <td>university degree</td>\n      <td>married</td>\n      <td>3139.0</td>\n      <td>owner</td>\n      <td>67.0</td>\n      <td>pensioner</td>\n      <td>3.0</td>\n      <td>2.0</td>\n    </tr>\n    <tr>\n      <th>1</th>\n      <td>0</td>\n      <td>0.0</td>\n      <td>0.0</td>\n      <td>0.0</td>\n      <td>0.0</td>\n      <td>0.00</td>\n      <td>0.0</td>\n      <td>0.0</td>\n      <td>0.0</td>\n      <td>0.0</td>\n      <td>...</td>\n      <td>-100.0</td>\n      <td>-100.0</td>\n      <td>university degree</td>\n      <td>married</td>\n      <td>3139.0</td>\n      <td>owner</td>\n      <td>68.0</td>\n      <td>pensioner</td>\n      <td>3.0</td>\n      <td>2.0</td>\n    </tr>\n    <tr>\n      <th>2</th>\n      <td>0</td>\n      <td>1.0</td>\n      <td>1.0</td>\n      <td>186.0</td>\n      <td>186.0</td>\n      <td>2085.04</td>\n      <td>0.0</td>\n      <td>0.0</td>\n      <td>0.0</td>\n      <td>0.0</td>\n      <td>...</td>\n      <td>66.0</td>\n      <td>21.0</td>\n      <td>unknown</td>\n      <td>married</td>\n      <td>1510.0</td>\n      <td>owner with mortage</td>\n      <td>59.0</td>\n      <td>labourer</td>\n      <td>2.0</td>\n      <td>3.0</td>\n    </tr>\n    <tr>\n      <th>3</th>\n      <td>0</td>\n      <td>0.0</td>\n      <td>0.0</td>\n      <td>0.0</td>\n      <td>0.0</td>\n      <td>0.00</td>\n      <td>0.0</td>\n      <td>0.0</td>\n      <td>0.0</td>\n      <td>0.0</td>\n      <td>...</td>\n      <td>-100.0</td>\n      <td>-100.0</td>\n      <td>unknown</td>\n      <td>married</td>\n      <td>3150.0</td>\n      <td>owner with mortage</td>\n      <td>59.0</td>\n      <td>teacher</td>\n      <td>3.0</td>\n      <td>2.0</td>\n    </tr>\n    <tr>\n      <th>4</th>\n      <td>0</td>\n      <td>0.0</td>\n      <td>0.0</td>\n      <td>0.0</td>\n      <td>0.0</td>\n      <td>0.00</td>\n      <td>0.0</td>\n      <td>0.0</td>\n      <td>0.0</td>\n      <td>0.0</td>\n      <td>...</td>\n      <td>-100.0</td>\n      <td>-100.0</td>\n      <td>unknown</td>\n      <td>married</td>\n      <td>3150.0</td>\n      <td>owner with mortage</td>\n      <td>59.0</td>\n      <td>teacher</td>\n      <td>3.0</td>\n      <td>2.0</td>\n    </tr>\n  </tbody>\n</table>\n<p>5 rows × 48 columns</p>\n</div>"
     },
     "execution_count": 9,
     "metadata": {},
     "output_type": "execute_result"
    }
   ],
   "source": [
    "df = pd.read_csv('../data/data_exercice.csv', header=0)\n",
    "df.head()"
   ]
  },
  {
   "cell_type": "markdown",
   "metadata": {
    "pycharm": {
     "name": "#%% md\n"
    }
   },
   "source": [
    "Use Pandas *load_dummies* to transform category columns into indicators."
   ]
  },
  {
   "cell_type": "code",
   "execution_count": 3,
   "metadata": {
    "pycharm": {
     "name": "#%%\n"
    }
   },
   "outputs": [],
   "source": [
    "data = pd.get_dummies(df)\n",
    "data.head()\n",
    "headers = list(data.columns.values)"
   ]
  },
  {
   "cell_type": "markdown",
   "metadata": {
    "pycharm": {
     "name": "#%% md\n"
    }
   },
   "source": [
    "Get the labels for the target column (*'TARGET'*) and for the training data (*all other columns*).\n",
    "\n",
    "Use *train_test_split* to randomly select 35% of the available data to be use for training, leaving 75% of the data for checking the accuracy of the classifier.\n",
    "\n",
    "Missing values in both the training and test data will be filled using the mean of the corresponding column in the training data."
   ]
  },
  {
   "cell_type": "code",
   "execution_count": 4,
   "metadata": {
    "pycharm": {
     "name": "#%%\n"
    }
   },
   "outputs": [],
   "source": [
    "y = data['TARGET']\n",
    "X = data[[label for label in headers if label != 'TARGET']]\n",
    "\n",
    "X_train, X_test, y_train, y_test = train_test_split(X, y, test_size=0.35)\n",
    "\n",
    "X_train = X_train.fillna(X_train.mean())\n",
    "X_test = X_test.fillna(X_train.mean())\n"
   ]
  },
  {
   "cell_type": "markdown",
   "metadata": {
    "pycharm": {
     "name": "#%% md\n"
    }
   },
   "source": [
    "Initialize the RandomForestClassifier (100 trees with a max tree depth of 10) and train it using the selected training data."
   ]
  },
  {
   "cell_type": "code",
   "execution_count": 8,
   "metadata": {
    "pycharm": {
     "name": "#%%\n"
    }
   },
   "outputs": [
    {
     "name": "stdout",
     "output_type": "stream",
     "text": [
      "Time spent training: 9.02s\n"
     ]
    }
   ],
   "source": [
    "st = time.time()\n",
    "classifier = RandomForestClassifier(\n",
    "    n_estimators=100,\n",
    "    max_depth=10,\n",
    ")\n",
    "\n",
    "classifier.fit(X_train, y_train)\n",
    "\n",
    "print(f'Time spent training: {round(time.time() - st, 2)}s')"
   ]
  },
  {
   "cell_type": "markdown",
   "metadata": {
    "pycharm": {
     "name": "#%% md\n"
    }
   },
   "source": [
    "Use the classifier to predict the TARGET for the test data.\n",
    "\n",
    "Evaluate the accuracy of the prediction using *metrics.accuracy_score* to compare the actual and predicted TARGET values.\n"
   ]
  },
  {
   "cell_type": "code",
   "execution_count": 6,
   "metadata": {
    "pycharm": {
     "name": "#%%\n"
    }
   },
   "outputs": [
    {
     "name": "stdout",
     "output_type": "stream",
     "text": [
      "Accuracy: 0.9691134234191817\n"
     ]
    }
   ],
   "source": [
    "y_pred = classifier.predict(X_test)\n",
    "\n",
    "print(f'Accuracy: {metrics.accuracy_score(y_test, y_pred)}')"
   ]
  },
  {
   "cell_type": "markdown",
   "metadata": {
    "pycharm": {
     "name": "#%% md\n"
    }
   },
   "source": [
    "Get the prediction probability values and use them with the expected TARGET values to compute the *Area Under the ROC Curve*."
   ]
  },
  {
   "cell_type": "code",
   "execution_count": 7,
   "metadata": {
    "pycharm": {
     "name": "#%%\n"
    }
   },
   "outputs": [
    {
     "name": "stdout",
     "output_type": "stream",
     "text": [
      "ROC AUC: 0.7555044301040819\n"
     ]
    }
   ],
   "source": [
    "probs = classifier.predict_proba(X_test)\n",
    "auc = metrics.roc_auc_score(y_test, probs[:, 1])\n",
    "print(f'ROC AUC: {auc}')\n",
    "\n"
   ]
  },
  {
   "cell_type": "code",
   "execution_count": null,
   "metadata": {},
   "outputs": [],
   "source": []
  }
 ],
 "metadata": {
  "kernelspec": {
   "display_name": "Python 3",
   "language": "python",
   "name": "python3"
  },
  "language_info": {
   "codemirror_mode": {
    "name": "ipython",
    "version": 3
   },
   "file_extension": ".py",
   "mimetype": "text/x-python",
   "name": "python",
   "nbconvert_exporter": "python",
   "pygments_lexer": "ipython3",
   "version": "3.9.0"
  }
 },
 "nbformat": 4,
 "nbformat_minor": 1
}